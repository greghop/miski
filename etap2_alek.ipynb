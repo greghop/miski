{
 "cells": [
  {
   "cell_type": "code",
   "execution_count": null,
   "metadata": {},
   "outputs": [],
   "source": [
    "N=4\n",
    "napis = \"1 1 3 3\"\n",
    "lista_znakow = napis.split()\n",
    "\n",
    "sekwencja_liczb = []\n",
    "for liczba in lista_znakow:\n",
    "    sekwencja_liczb.append(int(liczba))\n",
    "\n",
    "for i in range(1, N+1):\n",
    "    liczba_brakujaca = True\n",
    "    \n",
    "    for j in range(N):\n",
    "        if sekwencja_liczb[j] == i:\n",
    "            liczba_brakujaca = False\n",
    "            break\n",
    "    \n",
    "    if liczba_brakujaca:\n",
    "        print(i)\n",
    "        break\n",
    "    \n",
    "if i == N:\n",
    "    print(i+1)"
   ]
  }
 ],
 "metadata": {
  "language_info": {
   "name": "python"
  }
 },
 "nbformat": 4,
 "nbformat_minor": 2
}
