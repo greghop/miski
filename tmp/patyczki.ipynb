{
 "cells": [
  {
   "cell_type": "code",
   "execution_count": 3,
   "metadata": {},
   "outputs": [
    {
     "name": "stdout",
     "output_type": "stream",
     "text": [
      "4\n"
     ]
    }
   ],
   "source": [
    "a=4\n",
    "b=10\n",
    "\n",
    "if a >= b:\n",
    "    dluzszy_bok = a\n",
    "    krotszy_bok = b\n",
    "else:\n",
    "    dluzszy_bok = b\n",
    "    krotszy_bok = a\n",
    "    \n",
    "boki_3 = dluzszy_bok // 3\n",
    "boki_2 = dluzszy_bok // 2\n",
    "\n",
    "if boki_3 >= krotszy_bok:\n",
    "    print(boki_3)\n",
    "elif boki_2 >= krotszy_bok:   \n",
    "    print(krotszy_bok)\n",
    "else:\n",
    "    print(boki_2)\n"
   ]
  }
 ],
 "metadata": {
  "kernelspec": {
   "display_name": "venv",
   "language": "python",
   "name": "python3"
  },
  "language_info": {
   "codemirror_mode": {
    "name": "ipython",
    "version": 3
   },
   "file_extension": ".py",
   "mimetype": "text/x-python",
   "name": "python",
   "nbconvert_exporter": "python",
   "pygments_lexer": "ipython3",
   "version": "3.9.18"
  }
 },
 "nbformat": 4,
 "nbformat_minor": 2
}
